{
 "cells": [
  {
   "cell_type": "code",
   "execution_count": 1,
   "id": "5a66b41c-a077-4982-a0ed-705bab306e68",
   "metadata": {},
   "outputs": [
    {
     "name": "stdout",
     "output_type": "stream",
     "text": [
      "   Feature1  Feature2  Feature3  Feature4\n",
      "0  1.764052  0.400157  0.978738  2.240893\n",
      "1  1.867558 -0.977278  0.950088 -0.151357\n",
      "2 -0.103219  0.410599  0.144044  1.454274\n",
      "3  0.761038  0.121675  0.443863  0.333674\n"
     ]
    }
   ],
   "source": [
    "import pandas as pd\n",
    "import numpy as np\n",
    "np.random.seed(0)\n",
    "data = np.random.randn(4, 4)\n",
    "df = pd.DataFrame(data, columns=['Feature1', 'Feature2', 'Feature3', 'Feature4'])\n",
    "print(df)"
   ]
  },
  {
   "cell_type": "code",
   "execution_count": 2,
   "id": "f081b5c9-3567-45fa-a218-fee5e56be2ce",
   "metadata": {},
   "outputs": [
    {
     "name": "stdout",
     "output_type": "stream",
     "text": [
      "   Random value 1  Random value 2  Random value 3  Random value 4\n",
      "0        1.764052        0.400157        0.978738        2.240893\n",
      "1        1.867558       -0.977278        0.950088       -0.151357\n",
      "2       -0.103219        0.410599        0.144044        1.454274\n",
      "3        0.761038        0.121675        0.443863        0.333674\n"
     ]
    }
   ],
   "source": [
    "import pandas as pd\n",
    "import numpy as np\n",
    "np.random.seed(0)\n",
    "data = np.random.randn(4, 4)\n",
    "df = pd.DataFrame(data, columns=['Feature1', 'Feature2', 'Feature3', 'Feature4'])\n",
    "df = df.rename(columns={'Feature1': 'Random value 1', \n",
    "                        'Feature2': 'Random value 2',\n",
    "                        'Feature3': 'Random value 3',\n",
    "                        'Feature4': 'Random value 4'})\n",
    "print(df)\n",
    "\n"
   ]
  },
  {
   "cell_type": "code",
   "execution_count": 3,
   "id": "6407bef5-2824-4b81-8982-ca588ce16548",
   "metadata": {},
   "outputs": [
    {
     "name": "stdout",
     "output_type": "stream",
     "text": [
      "       Random value 1  Random value 2  Random value 3  Random value 4\n",
      "count        4.000000        4.000000        4.000000        4.000000\n",
      "mean         1.072357       -0.011212        0.629183        0.969371\n",
      "std          0.929101        0.657797        0.406150        1.081980\n",
      "min         -0.103219       -0.977278        0.144044       -0.151357\n",
      "25%          0.544974       -0.153063        0.368908        0.212416\n",
      "50%          1.262545        0.260916        0.696976        0.893974\n",
      "75%          1.789929        0.402768        0.957251        1.650928\n",
      "max          1.867558        0.410599        0.978738        2.240893\n"
     ]
    }
   ],
   "source": [
    "import pandas as pd\n",
    "import numpy as np\n",
    "np.random.seed(0)\n",
    "data = np.random.randn(4, 4)\n",
    "df = pd.DataFrame(data, columns=['Feature1', 'Feature2', \n",
    "'Feature3', 'Feature4'])\n",
    "df = df.rename(columns={'Feature1': 'Random value 1', \n",
    " 'Feature2': 'Random value 2',\n",
    " 'Feature3': 'Random value 3',\n",
    " 'Feature4': 'Random value 4'})\n",
    "descriptive = df.describe()\n",
    "print(descriptive)\n"
   ]
  },
  {
   "cell_type": "code",
   "execution_count": 4,
   "id": "3b2be269-c0f0-4739-adba-fba5aac5395a",
   "metadata": {},
   "outputs": [
    {
     "name": "stdout",
     "output_type": "stream",
     "text": [
      "Null Values:\n",
      "Random value 1    0\n",
      "Random value 2    0\n",
      "Random value 3    0\n",
      "Random value 4    0\n",
      "dtype: int64\n",
      "\n",
      "Data Types:\n",
      "Random value 1    float64\n",
      "Random value 2    float64\n",
      "Random value 3    float64\n",
      "Random value 4    float64\n",
      "dtype: object\n"
     ]
    }
   ],
   "source": [
    "import pandas as pd\n",
    "import numpy as np\n",
    "np.random.seed(0)\n",
    "data = np.random.randn(4, 4)\n",
    "df = pd.DataFrame(data, columns=['Feature1', 'Feature2', \n",
    "'Feature3', 'Feature4'])\n",
    "df = df.rename(columns={'Feature1': 'Random value 1', \n",
    " 'Feature2': 'Random value 2',\n",
    " 'Feature3': 'Random value 3',\n",
    " 'Feature4': 'Random value 4'})\n",
    "null_values = df.isnull().sum()\n",
    "data_types = df.dtypes\n",
    "print(\"Null Values:\")\n",
    "print(null_values)\n",
    "print(\"\\nData Types:\")\n",
    "print(data_types)"
   ]
  },
  {
   "cell_type": "code",
   "execution_count": 5,
   "id": "a95647e5-00c0-4868-9c38-50fffaa2babd",
   "metadata": {},
   "outputs": [
    {
     "name": "stdout",
     "output_type": "stream",
     "text": [
      "Using .loc[] method:\n",
      "   Random value 2  Random value 3\n",
      "0        0.400157        0.978738\n",
      "1       -0.977278        0.950088\n",
      "2        0.410599        0.144044\n",
      "3        0.121675        0.443863\n",
      "\n",
      "Using index location method:\n",
      "   Random value 2  Random value 3\n",
      "0        0.400157        0.978738\n",
      "1       -0.977278        0.950088\n",
      "2        0.410599        0.144044\n",
      "3        0.121675        0.443863\n"
     ]
    }
   ],
   "source": [
    "import pandas as pd\n",
    "import numpy as np\n",
    "np.random.seed(0)\n",
    "data = np.random.randn(4, 4)\n",
    "df = pd.DataFrame(data, columns=['Feature1', 'Feature2', \n",
    "'Feature3', 'Feature4'])\n",
    "df = df.rename(columns={'Feature1': 'Random value 1', \n",
    " 'Feature2': 'Random value 2',\n",
    " 'Feature3': 'Random value 3',\n",
    " 'Feature4': 'Random value 4'})\n",
    "print(\"Using .loc[] method:\")\n",
    "print(df.loc[:, ['Random value 2', 'Random value 3']])\n",
    "print(\"\\nUsing index location method:\")\n",
    "print(df.iloc[:, [1, 2]])"
   ]
  },
  {
   "cell_type": "code",
   "execution_count": null,
   "id": "2ef5eeaf-353c-4114-9f68-19532128b0ca",
   "metadata": {},
   "outputs": [],
   "source": []
  }
 ],
 "metadata": {
  "kernelspec": {
   "display_name": "Python 3 (ipykernel)",
   "language": "python",
   "name": "python3"
  },
  "language_info": {
   "codemirror_mode": {
    "name": "ipython",
    "version": 3
   },
   "file_extension": ".py",
   "mimetype": "text/x-python",
   "name": "python",
   "nbconvert_exporter": "python",
   "pygments_lexer": "ipython3",
   "version": "3.10.7"
  }
 },
 "nbformat": 4,
 "nbformat_minor": 5
}
